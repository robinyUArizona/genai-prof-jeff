{
 "cells": [
  {
   "cell_type": "markdown",
   "metadata": {
    "id": "whjsJasuhstV"
   },
   "source": [
    "<a href=\"https://colab.research.google.com/github/jeffheaton/app_generative_ai/blob/main/t81_559_class_02_1_dev.ipynb\" target=\"_parent\"><img src=\"https://colab.research.google.com/assets/colab-badge.svg\" alt=\"Open In Colab\"/></a>"
   ]
  },
  {
   "cell_type": "markdown",
   "metadata": {
    "id": "euOZxlIMhstX"
   },
   "source": [
    "# T81-559: Applications of Generative Artificial Intelligence\n",
    "**Module 2: Code Generation**\n",
    "* Instructor: [Jeff Heaton](https://sites.wustl.edu/jeffheaton/), McKelvey School of Engineering, [Washington University in St. Louis](https://engineering.wustl.edu/Programs/Pages/default.aspx)\n",
    "* For more information visit the [class website](https://sites.wustl.edu/jeffheaton/t81-558/)."
   ]
  },
  {
   "cell_type": "markdown",
   "metadata": {
    "id": "d4Yov72PhstY"
   },
   "source": [
    "# Module 2 Material\n",
    "\n",
    "* **Part 2.1: Prompting for Code Generation** [[Video]](https://www.youtube.com/watch?v=HVId6kYKKgQ) [[Notebook]](t81_559_class_02_1_dev.ipynb)\n",
    "* Part 2.2: Handling Revision Prompts [[Video]](https://www.youtube.com/watch?v=APpV46tplXA) [[Notebook]](t81_559_class_02_2_multi_prompt.ipynb)\n",
    "* Part 2.3: Using a LLM to Help Debug [[Video]](https://www.youtube.com/watch?v=VPqSNb38QK0) [[Notebook]](t81_559_class_02_3_llm_debug.ipynb)\n",
    "* Part 2.4: Tracking Prompts in Software Development [[Video]](https://www.youtube.com/watch?v=oUFUuYfvXZU) [[Notebook]](t81_559_class_02_4_software_eng.ipynb)\n",
    "* Part 2.5: Limits of LLM Code Generation [[Video]](https://www.youtube.com/watch?v=dKtRI0LZSyY) [[Notebook]](t81_559_class_02_5_code_gen_limits.ipynb)\n"
   ]
  },
  {
   "cell_type": "markdown",
   "metadata": {
    "id": "AcAUP0c3hstY"
   },
   "source": [
    "# Google CoLab Instructions\n",
    "\n",
    "The following code ensures that Google CoLab is running and maps Google Drive if needed."
   ]
  },
  {
   "cell_type": "code",
   "execution_count": 1,
   "metadata": {
    "colab": {
     "background_save": true,
     "base_uri": "https://localhost:8080/"
    },
    "id": "xsI496h5hstZ",
    "outputId": "4b78d8f4-3b0e-4a47-84a3-10012ba63786"
   },
   "outputs": [
    {
     "name": "stdout",
     "output_type": "stream",
     "text": [
      "Note: not using Google CoLab\n"
     ]
    }
   ],
   "source": [
    "import os\n",
    "\n",
    "try:\n",
    "    from google.colab import drive, userdata\n",
    "    COLAB = True\n",
    "    print(\"Note: using Google CoLab\")\n",
    "except:\n",
    "    print(\"Note: not using Google CoLab\")\n",
    "    COLAB = False\n",
    "\n",
    "# OpenAI Secrets\n",
    "if COLAB:\n",
    "    os.environ[\"OPENAI_API_KEY\"] = userdata.get('OPENAI_API_KEY')\n",
    "\n",
    "# Install needed libraries in CoLab\n",
    "if COLAB:\n",
    "    !pip install langchain langchain_openai"
   ]
  },
  {
   "cell_type": "markdown",
   "metadata": {
    "id": "pC9A-LaYhsta"
   },
   "source": [
    "# 2.1: Prompting for Code Generation\n",
    "\n",
    "## OpenAI for Code Generation\n",
    "\n",
    "LLMs are adept at generating code and can considerably boost programmers' productivity. This technical course requires you to create programs for the assignments. You might wonder if I consider it  \"cheating\" to utilize LLMs to help you write your homework assignments. For this course, I do not consider it cheating to use AI to help you with assignments; I expect such utilization in this course.\n",
    "\n",
    "You can use the same OpenAI LLMs that your OpenAI grants access to for code generation. You also have other options, which may give you access to even greater code generation capabilities, though OpenAI should be sufficient for this class.\n",
    "\n",
    "There are three possible LLM-based code generation tools. All three require additional fees for use.\n",
    "\n",
    "* [GitHub CoPilot](https://github.com/features/copilot)\n",
    "* [ChatGPT](https://chat.openai.com/)\n",
    "* [Amazon CodeWhisperer](https://aws.amazon.com/codewhisperer/)\n",
    "\n",
    "You can use the code below to access OpenAI for code generation."
   ]
  },
  {
   "cell_type": "code",
   "execution_count": 2,
   "metadata": {
    "colab": {
     "background_save": true
    },
    "id": "TMF-rtxgRAea"
   },
   "outputs": [],
   "source": [
    "from langchain_core.messages import HumanMessage, SystemMessage\n",
    "from langchain_core.prompts.chat import (\n",
    "    ChatPromptTemplate,\n",
    "    HumanMessagePromptTemplate,\n",
    "    SystemMessagePromptTemplate,\n",
    ")\n",
    "from langchain_openai import ChatOpenAI\n",
    "from IPython.display import display_markdown\n",
    "\n",
    "MODEL = 'gpt-4o-mini'\n",
    "\n",
    "def generate_code(prompt):\n",
    "  messages = [\n",
    "      SystemMessage(\n",
    "          content=\"You are a helpful assistant that writes reliable computer program code.\"\n",
    "      ),\n",
    "      HumanMessage(content=prompt),\n",
    "  ]\n",
    "\n",
    "  # Initialize the OpenAI LLM with your API key\n",
    "  llm = ChatOpenAI(\n",
    "    model=MODEL,\n",
    "    temperature= 0.0,\n",
    "    n= 1)\n",
    "\n",
    "  print(MODEL)\n",
    "  print(\"Model response:\")\n",
    "  output = llm.invoke(messages)\n",
    "  display_markdown(output.content,raw=True)"
   ]
  },
  {
   "cell_type": "markdown",
   "metadata": {
    "id": "ClPhLkGldhPt"
   },
   "source": [
    "With the above function defined, you can now generate code. The code below generates a Python function to create a Fibonacci sequence."
   ]
  },
  {
   "cell_type": "code",
   "execution_count": 4,
   "metadata": {
    "colab": {
     "background_save": true,
     "base_uri": "https://localhost:8080/",
     "height": 494
    },
    "id": "ydaqwgRiH4D6",
    "outputId": "52243a3a-b06b-44e6-a95e-ca398c9865a1"
   },
   "outputs": [
    {
     "name": "stdout",
     "output_type": "stream",
     "text": [
      "gpt-4o-mini\n",
      "Model response:\n"
     ]
    },
    {
     "data": {
      "text/markdown": [
       "Certainly! Below is a Python function that generates a Fibonacci sequence of a specified length `l`:\n",
       "\n",
       "```python\n",
       "def fibonacci_sequence(l):\n",
       "    if l <= 0:\n",
       "        return []\n",
       "    elif l == 1:\n",
       "        return [0]\n",
       "    elif l == 2:\n",
       "        return [0, 1]\n",
       "    \n",
       "    sequence = [0, 1]\n",
       "    for i in range(2, l):\n",
       "        next_value = sequence[-1] + sequence[-2]\n",
       "        sequence.append(next_value)\n",
       "    \n",
       "    return sequence\n",
       "\n",
       "# Example usage:\n",
       "length = 10\n",
       "print(fibonacci_sequence(length))\n",
       "```\n",
       "\n",
       "This function works as follows:\n",
       "- It first checks if the length `l` is less than or equal to 0, in which case it returns an empty list.\n",
       "- If `l` is 1, it returns a list containing only the first Fibonacci number, which is 0.\n",
       "- If `l` is 2, it returns the first two Fibonacci numbers: 0 and 1.\n",
       "- For lengths greater than 2, it initializes the sequence with the first two Fibonacci numbers and then iteratively calculates the next numbers in the sequence until it reaches the desired length. \n",
       "\n",
       "You can call the function with any positive integer to get the corresponding Fibonacci sequence."
      ]
     },
     "metadata": {},
     "output_type": "display_data"
    }
   ],
   "source": [
    "generate_code(\"\"\"Write Python code to return a fibonacci sequence of a length specified by the parameter l.\"\"\")"
   ]
  },
  {
   "cell_type": "markdown",
   "metadata": {
    "id": "8fzxOCfgeKUF"
   },
   "source": [
    "## Generating Methods"
   ]
  },
  {
   "cell_type": "code",
   "execution_count": 5,
   "metadata": {
    "colab": {
     "base_uri": "https://localhost:8080/",
     "height": 1000
    },
    "id": "priNIsKGgR7M",
    "outputId": "d9e826bf-f195-4a43-d459-765a473b23fc"
   },
   "outputs": [
    {
     "name": "stdout",
     "output_type": "stream",
     "text": [
      "gpt-4o-mini\n",
      "Model response:\n"
     ]
    },
    {
     "data": {
      "text/markdown": [
       "To create a function named `loan_amortization` that calculates the loan amortization schedule and returns a Pandas DataFrame, you can follow the steps outlined below. This function will compute the monthly payment, the interest paid, the principal paid, and the remaining balance for each month of the loan.\n",
       "\n",
       "Here's the complete code for the function:\n",
       "\n",
       "```python\n",
       "import pandas as pd\n",
       "\n",
       "def loan_amortization(loan_amount, apr, term):\n",
       "    # Convert annual percentage rate to a monthly interest rate\n",
       "    monthly_interest_rate = apr / 100 / 12\n",
       "    \n",
       "    # Calculate the monthly payment using the formula for an amortizing loan\n",
       "    if monthly_interest_rate > 0:\n",
       "        monthly_payment = loan_amount * (monthly_interest_rate * (1 + monthly_interest_rate) ** term) / ((1 + monthly_interest_rate) ** term - 1)\n",
       "    else:\n",
       "        monthly_payment = loan_amount / term  # If interest rate is 0, just divide the loan amount by the term\n",
       "    \n",
       "    # Initialize lists to hold the amortization schedule data\n",
       "    months = []\n",
       "    amounts = []\n",
       "    principals = []\n",
       "    interests = []\n",
       "    payments = []\n",
       "    \n",
       "    # Initialize the remaining balance\n",
       "    remaining_balance = loan_amount\n",
       "    \n",
       "    for month in range(1, term + 1):\n",
       "        # Calculate interest for the current month\n",
       "        interest_payment = remaining_balance * monthly_interest_rate\n",
       "        \n",
       "        # Calculate principal payment for the current month\n",
       "        principal_payment = monthly_payment - interest_payment\n",
       "        \n",
       "        # Update the remaining balance\n",
       "        remaining_balance -= principal_payment\n",
       "        \n",
       "        # Append the data to the lists\n",
       "        months.append(month)\n",
       "        amounts.append(remaining_balance if remaining_balance > 0 else 0)\n",
       "        principals.append(principal_payment)\n",
       "        interests.append(interest_payment)\n",
       "        payments.append(monthly_payment)\n",
       "    \n",
       "    # Create a dictionary to hold the data\n",
       "    data = {\n",
       "        'month': months,\n",
       "        'amount': amounts,\n",
       "        'principal': principals,\n",
       "        'interest': interests,\n",
       "        'payment': payments\n",
       "    }\n",
       "    \n",
       "    # Create a Pandas DataFrame from the dictionary\n",
       "    amortization_schedule = pd.DataFrame(data)\n",
       "    \n",
       "    return amortization_schedule\n",
       "\n",
       "# Example usage:\n",
       "# df = loan_amortization(10000, 5, 24)\n",
       "# print(df)\n",
       "```\n",
       "\n",
       "### Explanation:\n",
       "1. **Parameters**:\n",
       "   - `loan_amount`: The total amount of the loan.\n",
       "   - `apr`: The annual percentage rate (interest rate).\n",
       "   - `term`: The total number of months for the loan.\n",
       "\n",
       "2. **Monthly Payment Calculation**:\n",
       "   - The monthly interest rate is calculated by dividing the APR by 100 and then by 12.\n",
       "   - The monthly payment is calculated using the formula for an amortizing loan.\n",
       "\n",
       "3. **Amortization Schedule Calculation**:\n",
       "   - For each month, the function calculates the interest payment, principal payment, and updates the remaining balance.\n",
       "   - The results for each month are stored in lists.\n",
       "\n",
       "4. **DataFrame Creation**:\n",
       "   - A dictionary is created to hold the lists, which is then converted into a Pandas DataFrame.\n",
       "\n",
       "5. **Return Value**:\n",
       "   - The function returns the DataFrame containing the amortization schedule.\n",
       "\n",
       "You can test the function by calling it with appropriate parameters, as shown in the example usage."
      ]
     },
     "metadata": {},
     "output_type": "display_data"
    }
   ],
   "source": [
    "generate_code(\"\"\"\n",
    "Write a Python function named loan_amortization that accepts these parameters.\n",
    "loan_amount - The amount of the loan.\n",
    "apr - The interest rate.\n",
    "term - The number of months in the loan.\n",
    "The function should return a Pandas dataframe that contains the following columns:\n",
    "month - The current month.\n",
    "amount - The amount left on the loan.\n",
    "principal - The amount payed to the principal this month.\n",
    "interest - The amount paid in interest this month.\n",
    "payment - The total payment this month.\n",
    "Additionally, build a dictionary of columns to create the Pandas dataframe.\n",
    "\"\"\")"
   ]
  },
  {
   "cell_type": "code",
   "execution_count": 6,
   "metadata": {},
   "outputs": [
    {
     "name": "stdout",
     "output_type": "stream",
     "text": [
      "   month        amount   principal    interest     payment\n",
      "0      1  99879.845044  120.154956  416.666667  536.821623\n",
      "1      2  99759.189442  120.655602  416.166021  536.821623\n",
      "2      3  99638.031108  121.158334  415.663289  536.821623\n",
      "3      4  99516.367948  121.663160  415.158463  536.821623\n",
      "4      5  99394.197858  122.170090  414.651533  536.821623\n"
     ]
    }
   ],
   "source": [
    "import pandas as pd\n",
    "\n",
    "def loan_amortization(loan_amount, apr, term):\n",
    "    # Convert annual percentage rate to a monthly interest rate\n",
    "    monthly_interest_rate = apr / 100 / 12\n",
    "    \n",
    "    # Calculate the monthly payment using the formula for an amortizing loan\n",
    "    if monthly_interest_rate > 0:\n",
    "        monthly_payment = loan_amount * (monthly_interest_rate * (1 + monthly_interest_rate) ** term) / ((1 + monthly_interest_rate) ** term - 1)\n",
    "    else:\n",
    "        monthly_payment = loan_amount / term  # If interest rate is 0, just divide the loan amount by the term\n",
    "    \n",
    "    # Initialize lists to hold the amortization schedule data\n",
    "    months = []\n",
    "    amounts = []\n",
    "    principals = []\n",
    "    interests = []\n",
    "    payments = []\n",
    "    \n",
    "    # Initialize the remaining balance\n",
    "    remaining_balance = loan_amount\n",
    "    \n",
    "    for month in range(1, term + 1):\n",
    "        # Calculate interest for the current month\n",
    "        interest_payment = remaining_balance * monthly_interest_rate\n",
    "        \n",
    "        # Calculate principal payment for the current month\n",
    "        principal_payment = monthly_payment - interest_payment\n",
    "        \n",
    "        # Update the remaining balance\n",
    "        remaining_balance -= principal_payment\n",
    "        \n",
    "        # Append the data to the lists\n",
    "        months.append(month)\n",
    "        amounts.append(remaining_balance if remaining_balance > 0 else 0)\n",
    "        principals.append(principal_payment)\n",
    "        interests.append(interest_payment)\n",
    "        payments.append(monthly_payment)\n",
    "    \n",
    "    # Create a dictionary to hold the data\n",
    "    data = {\n",
    "        'month': months,\n",
    "        'amount': amounts,\n",
    "        'principal': principals,\n",
    "        'interest': interests,\n",
    "        'payment': payments\n",
    "    }\n",
    "    \n",
    "    # Create a Pandas DataFrame from the dictionary\n",
    "    amortization_schedule = pd.DataFrame(data)\n",
    "    \n",
    "    return amortization_schedule\n",
    "\n",
    "# Example usage:\n",
    "# df = loan_amortization(10000, 5, 24)\n",
    "# print(df)\n",
    "# Example usage:\n",
    "loan_amount = 100000  # $100,000 loan\n",
    "apr = 5  # 5% annual interest rate\n",
    "term = 360  # 30 years, 360 months\n",
    "df = loan_amortization(loan_amount, apr, term)\n",
    "print(df.head())  # Print the first few rows of the DataFrame"
   ]
  },
  {
   "cell_type": "markdown",
   "metadata": {
    "id": "Z_ZKqu8TeQcm"
   },
   "source": [
    "```\n",
    "Write a Python function named loan_amortization that accepts these parameters.\n",
    "loan_amount - The amount of the loan.\n",
    "apr - The interest rate.\n",
    "term - The number of months in the loan.\n",
    "The function should return a Pandas dataframe that contains the following columns:\n",
    "month - The current month.\n",
    "amount - The amount left on the loan.\n",
    "principal - The amount payed to the principal this month.\n",
    "interest - The amount paid in interest this month.\n",
    "payment - The total payment this month.\n",
    "```"
   ]
  },
  {
   "cell_type": "markdown",
   "metadata": {
    "id": "t15LDXS9mCI_"
   },
   "source": [
    "## Generating Larger Programs\n",
    "\n"
   ]
  },
  {
   "cell_type": "code",
   "execution_count": 8,
   "metadata": {
    "colab": {
     "base_uri": "https://localhost:8080/",
     "height": 1000
    },
    "id": "q2ixb46lmI4Y",
    "outputId": "b1f03758-6fcd-4b65-91d2-bdad5fdf295a"
   },
   "outputs": [
    {
     "name": "stdout",
     "output_type": "stream",
     "text": [
      "gpt-4o-mini\n",
      "Model response:\n"
     ]
    },
    {
     "data": {
      "text/markdown": [
       "To create a PyTorch GPU-enabled neural network for predicting the age of people from images, we will follow these steps:\n",
       "\n",
       "1. Load the training and test datasets.\n",
       "2. Preprocess the images.\n",
       "3. Create a neural network model.\n",
       "4. Train the model with early stopping.\n",
       "5. Generate predictions for the test dataset.\n",
       "6. Create a submission DataFrame.\n",
       "\n",
       "Below is a complete implementation of the above steps:\n",
       "\n",
       "```python\n",
       "import os\n",
       "import pandas as pd\n",
       "import numpy as np\n",
       "import torch\n",
       "import torch.nn as nn\n",
       "import torch.optim as optim\n",
       "from torch.utils.data import Dataset, DataLoader\n",
       "from torchvision import transforms, models\n",
       "from sklearn.model_selection import train_test_split\n",
       "from sklearn.metrics import mean_absolute_error\n",
       "from tqdm import tqdm\n",
       "\n",
       "# Set device\n",
       "device = torch.device(\"cuda\" if torch.cuda.is_available() else \"cpu\")\n",
       "\n",
       "# Load the datasets\n",
       "train_df = pd.read_csv('/kaggle/input/applications-of-deep-learning-wustl-spring-2024/faces-age/train.csv')\n",
       "test_df = pd.read_csv('/kaggle/input/applications-of-deep-learning-wustl-spring-2024/faces-age/test.csv')\n",
       "\n",
       "# Define the image dataset\n",
       "class AgeDataset(Dataset):\n",
       "    def __init__(self, dataframe, img_dir, transform=None):\n",
       "        self.dataframe = dataframe\n",
       "        self.img_dir = img_dir\n",
       "        self.transform = transform\n",
       "\n",
       "    def __len__(self):\n",
       "        return len(self.dataframe)\n",
       "\n",
       "    def __getitem__(self, idx):\n",
       "        img_name = os.path.join(self.img_dir, self.dataframe.iloc[idx, 1])  # filename\n",
       "        image = Image.open(img_name).convert('RGB')\n",
       "        age = self.dataframe.iloc[idx, 2]  # age\n",
       "\n",
       "        if self.transform:\n",
       "            image = self.transform(image)\n",
       "\n",
       "        return image, age\n",
       "\n",
       "# Define transformations\n",
       "transform = transforms.Compose([\n",
       "    transforms.Resize((224, 224)),\n",
       "    transforms.ToTensor(),\n",
       "    transforms.Normalize(mean=[0.485, 0.456, 0.406], std=[0.229, 0.224, 0.225]),\n",
       "])\n",
       "\n",
       "# Split the training data into training and validation sets\n",
       "train_data, val_data = train_test_split(train_df, test_size=0.2, random_state=42)\n",
       "\n",
       "# Create datasets and dataloaders\n",
       "train_dataset = AgeDataset(train_data, '/kaggle/input/applications-of-deep-learning-wustl-spring-2024/faces-age', transform)\n",
       "val_dataset = AgeDataset(val_data, '/kaggle/input/applications-of-deep-learning-wustl-spring-2024/faces-age', transform)\n",
       "test_dataset = AgeDataset(test_df, '/kaggle/input/applications-of-deep-learning-wustl-spring-2024/faces-age', transform)\n",
       "\n",
       "train_loader = DataLoader(train_dataset, batch_size=32, shuffle=True)\n",
       "val_loader = DataLoader(val_dataset, batch_size=32, shuffle=False)\n",
       "test_loader = DataLoader(test_dataset, batch_size=32, shuffle=False)\n",
       "\n",
       "# Define the neural network model\n",
       "class AgeNet(nn.Module):\n",
       "    def __init__(self):\n",
       "        super(AgeNet, self).__init__()\n",
       "        self.model = models.resnet18(pretrained=True)\n",
       "        self.model.fc = nn.Linear(self.model.fc.in_features, 1)  # Change the output layer to 1 for age prediction\n",
       "\n",
       "    def forward(self, x):\n",
       "        return self.model(x)\n",
       "\n",
       "# Initialize the model, loss function, and optimizer\n",
       "model = AgeNet().to(device)\n",
       "criterion = nn.MSELoss()\n",
       "optimizer = optim.Adam(model.parameters(), lr=0.001)\n",
       "\n",
       "# Training function with early stopping\n",
       "def train_model(model, train_loader, val_loader, criterion, optimizer, num_epochs=25, patience=5):\n",
       "    best_val_loss = float('inf')\n",
       "    epochs_no_improve = 0\n",
       "    for epoch in range(num_epochs):\n",
       "        model.train()\n",
       "        running_loss = 0.0\n",
       "        for images, ages in tqdm(train_loader):\n",
       "            images, ages = images.to(device), ages.float().to(device).view(-1, 1)\n",
       "\n",
       "            optimizer.zero_grad()\n",
       "            outputs = model(images)\n",
       "            loss = criterion(outputs, ages)\n",
       "            loss.backward()\n",
       "            optimizer.step()\n",
       "\n",
       "            running_loss += loss.item()\n",
       "\n",
       "        # Validation\n",
       "        model.eval()\n",
       "        val_loss = 0.0\n",
       "        with torch.no_grad():\n",
       "            for images, ages in val_loader:\n",
       "                images, ages = images.to(device), ages.float().to(device).view(-1, 1)\n",
       "                outputs = model(images)\n",
       "                loss = criterion(outputs, ages)\n",
       "                val_loss += loss.item()\n",
       "\n",
       "        val_loss /= len(val_loader)\n",
       "        print(f'Epoch {epoch+1}/{num_epochs}, Train Loss: {running_loss/len(train_loader)}, Val Loss: {val_loss}')\n",
       "\n",
       "        # Early stopping\n",
       "        if val_loss < best_val_loss:\n",
       "            best_val_loss = val_loss\n",
       "            epochs_no_improve = 0\n",
       "            torch.save(model.state_dict(), 'best_model.pth')\n",
       "        else:\n",
       "            epochs_no_improve += 1\n",
       "            if epochs_no_improve >= patience:\n",
       "                print(\"Early stopping!\")\n",
       "                break\n",
       "\n",
       "# Train the model\n",
       "train_model(model, train_loader, val_loader, criterion, optimizer)\n",
       "\n",
       "# Load the best model\n",
       "model.load_state_dict(torch.load('best_model.pth'))\n",
       "\n",
       "# Generate predictions for the test dataset\n",
       "model.eval()\n",
       "predictions = []\n",
       "with torch.no_grad():\n",
       "    for images, _ in test_loader:\n",
       "        images = images.to(device)\n",
       "        outputs = model(images)\n",
       "        predictions.extend(outputs.cpu().numpy())\n",
       "\n",
       "# Create submission DataFrame\n",
       "submission_df = pd.DataFrame({\n",
       "    'id': test_df['id'],\n",
       "    'age': np.squeeze(predictions)\n",
       "})\n",
       "\n",
       "# Save the submission DataFrame\n",
       "submission_df.to_csv('submission.csv', index=False)\n",
       "```\n",
       "\n",
       "### Explanation:\n",
       "1. **Dataset Class**: The `AgeDataset` class loads images and their corresponding ages.\n",
       "2. **Transformations**: Images are resized and normalized.\n",
       "3. **Model**: A pre-trained ResNet-18 model is used, modified to output a single value (age).\n",
       "4. **Training Loop**: The model is trained with early stopping based on validation loss.\n",
       "5. **Predictions**: After training, predictions are made on the test dataset.\n",
       "6. **Submission**: A DataFrame is created for submission, containing the IDs and predicted ages.\n",
       "\n",
       "### Note:\n",
       "- Ensure that you have the necessary libraries installed in your Kaggle environment.\n",
       "- Adjust the batch size and learning rate as needed based on your GPU memory and performance."
      ]
     },
     "metadata": {},
     "output_type": "display_data"
    }
   ],
   "source": [
    "generate_code(\"\"\"\n",
    "Create a PyTorch GPU-enabled neural network for a Kaggle competition that asks me to predict the age of people in provided images.\n",
    "The images are stored at this path: /kaggle/input/applications-of-deep-learning-wustl-spring-2024/faces-age.\n",
    "The training data is in the file: /kaggle/input/applications-of-deep-learning-wustl-spring-2024/faces-age/train.csv.\n",
    "The training data has 3 columns, id, filename, and age. The field age is the target, to be predicted, numeric age in years of\n",
    "the person. The file contains the filename of the image that corresponds to each row, the images are named 1.jpg, 2.jpg, etc,\n",
    "which corresponds to both the id and the filename fields. There is also a test dataset that we must generate a submission\n",
    "dataframe for. The test data is in the file /kaggle/input/applications-of-deep-learning-wustl-spring-2024/faces-age/test.csv,\n",
    "and has the id and filename columns, but we need to generate a submit dataframe with just id and age(the prediction). Train the neural network, use early stopping and generate the submit dataframe.\n",
    "\"\"\")"
   ]
  },
  {
   "cell_type": "markdown",
   "metadata": {
    "id": "3TjZs_TRht1n"
   },
   "source": [
    "# Module 2 Assignment\n",
    "\n",
    "You can find the first assignment here: [assignment 2](https://github.com/jeffheaton/app_generative_ai/blob/main/assignments/assignment_yourname_class2.ipynb)"
   ]
  },
  {
   "cell_type": "code",
   "execution_count": null,
   "metadata": {},
   "outputs": [],
   "source": []
  }
 ],
 "metadata": {
  "anaconda-cloud": {},
  "colab": {
   "provenance": []
  },
  "kernelspec": {
   "display_name": "Python 3",
   "language": "python",
   "name": "python3"
  },
  "language_info": {
   "codemirror_mode": {
    "name": "ipython",
    "version": 3
   },
   "file_extension": ".py",
   "mimetype": "text/x-python",
   "name": "python",
   "nbconvert_exporter": "python",
   "pygments_lexer": "ipython3",
   "version": "3.11.9"
  },
  "varInspector": {
   "cols": {
    "lenName": 16,
    "lenType": 16,
    "lenVar": 40
   },
   "kernels_config": {
    "python": {
     "delete_cmd_postfix": "",
     "delete_cmd_prefix": "del ",
     "library": "var_list.py",
     "varRefreshCmd": "print(var_dic_list())"
    },
    "r": {
     "delete_cmd_postfix": ") ",
     "delete_cmd_prefix": "rm(",
     "library": "var_list.r",
     "varRefreshCmd": "cat(var_dic_list()) "
    }
   },
   "types_to_exclude": [
    "module",
    "function",
    "builtin_function_or_method",
    "instance",
    "_Feature"
   ],
   "window_display": false
  }
 },
 "nbformat": 4,
 "nbformat_minor": 4
}
