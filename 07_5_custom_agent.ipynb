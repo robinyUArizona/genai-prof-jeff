{
  "cells": [
    {
      "cell_type": "markdown",
      "metadata": {
        "id": "whjsJasuhstV"
      },
      "source": [
        "<a href=\"https://colab.research.google.com/github/jeffheaton/app_generative_ai/blob/main/t81_559_class_07_5_custom_agent.ipynb\" target=\"_parent\"><img src=\"https://colab.research.google.com/assets/colab-badge.svg\" alt=\"Open In Colab\"/></a>"
      ]
    },
    {
      "cell_type": "markdown",
      "metadata": {
        "id": "euOZxlIMhstX"
      },
      "source": [
        "# T81-559: Applications of Generative Artificial Intelligence\n",
        "**Module 7: LangChain: Agents**\n",
        "* Instructor: [Jeff Heaton](https://sites.wustl.edu/jeffheaton/), McKelvey School of Engineering, [Washington University in St. Louis](https://engineering.wustl.edu/Programs/Pages/default.aspx)\n",
        "* For more information visit the [class website](https://sites.wustl.edu/jeffheaton/t81-558/)."
      ]
    },
    {
      "cell_type": "markdown",
      "metadata": {
        "id": "d4Yov72PhstY"
      },
      "source": [
        "# Module 7 Material\n",
        "\n",
        "* Part 7.1: Introduction to LangChain Agents [[Video]](https://www.youtube.com/watch?v=J5Vr___lSSs) [[Notebook]](t81_559_class_07_1_agents.ipynb)\n",
        "* Part 7.2: Understanding LangChain Agent Tools [[Video]](https://www.youtube.com/watch?v=qMquBmteYw4) [[Notebook]](t81_559_class_07_2_tools.ipynb)\n",
        "* Part 7.3: LangChain Retrival and Search Tools [[Video]](https://www.youtube.com/watch?v=NB5qGPLoBBE) [[Notebook]](t81_559_class_07_3_search_tools.ipynb)\n",
        "* Part 7.4: Constructing LangChain Agents [[Video]](https://www.youtube.com/watch?v=OJe5oHvrdHk) [[Notebook]](t81_559_class_07_4_more_agent.ipynb)\n",
        "* **Part 7.5: Custom Agents** [[Video]](https://www.youtube.com/watch?v=IsJemVYSEdc) [[Notebook]](t81_559_class_07_5_custom_agent.ipynb)"
      ]
    },
    {
      "cell_type": "markdown",
      "metadata": {
        "id": "AcAUP0c3hstY"
      },
      "source": [
        "# Google CoLab Instructions\n",
        "\n",
        "The following code ensures that Google CoLab is running and maps Google Drive if needed."
      ]
    },
    {
      "cell_type": "code",
      "execution_count": 1,
      "metadata": {
        "colab": {
          "base_uri": "https://localhost:8080/"
        },
        "id": "xsI496h5hstZ",
        "outputId": "163d13c0-51ad-450b-fbb3-bee8ba82dc22"
      },
      "outputs": [
        {
          "name": "stdout",
          "output_type": "stream",
          "text": [
            "Note: not using Google CoLab\n"
          ]
        }
      ],
      "source": [
        "import os\n",
        "\n",
        "try:\n",
        "    from google.colab import drive, userdata\n",
        "    COLAB = True\n",
        "    print(\"Note: using Google CoLab\")\n",
        "except:\n",
        "    print(\"Note: not using Google CoLab\")\n",
        "    COLAB = False\n",
        "\n",
        "# OpenAI Secrets\n",
        "if COLAB:\n",
        "    os.environ[\"OPENAI_API_KEY\"] = userdata.get('OPENAI_API_KEY')\n",
        "\n",
        "\n",
        "# Install needed libraries in CoLab\n",
        "if COLAB:\n",
        "    !pip install langchain langchain_openai langchain_experimental langchainhub sentence-transformers"
      ]
    },
    {
      "cell_type": "markdown",
      "metadata": {
        "id": "pC9A-LaYhsta"
      },
      "source": [
        "# 7.5: Custom LangChain Agents\n",
        "\n",
        "In this section, we delve into the creation of custom agents within LangChain. By designing bespoke tools, we can enhance the functionality of our agents to tackle more intricate tasks. These custom agents empower us to tailor solutions to specific requirements, enabling more sophisticated interactions and problem-solving capabilities. By leveraging LangChain's flexible framework, we can seamlessly integrate these custom tools to address unique challenges and optimize performance, providing a more robust and adaptable solution for complex scenarios.\n",
        "\n",
        "## A Simple Custom Tool\n",
        "\n",
        "We begin with a very simple tool: a button for the Language Model (LLM) to push. By providing this button, we can observe and confirm that the LLM can indeed interact with it. This fundamental interaction serves as a foundational step, demonstrating the basic capabilities of the LLM to execute commands. The following code constructs an LLM, as we have done previously, allowing us to build upon this basic interaction and progressively incorporate more complex tools and functionalities."
      ]
    },
    {
      "cell_type": "code",
      "execution_count": 2,
      "metadata": {
        "id": "_RvXin2X3O0K"
      },
      "outputs": [],
      "source": [
        "from langchain_openai import ChatOpenAI\n",
        "\n",
        "MODEL = 'gpt-4o-mini'\n",
        "\n",
        "llm = ChatOpenAI(\n",
        "        model=MODEL,\n",
        "        temperature=0.2,\n",
        "        n=1\n",
        "    )\n",
        "\n"
      ]
    },
    {
      "cell_type": "markdown",
      "metadata": {
        "id": "x4tbtkpECGyD"
      },
      "source": [
        "In the provided code, we create a simple agent tool designed to press a button. We begin by importing the Tool class from the LangChain agents module. The core functionality is defined in the press_button function, which takes a single argument, value. When this function is called, it prints the provided value and returns the string \"The button glows red!\".\n",
        "\n",
        "Next, we instantiate a Tool object named button_tool. We specify its name as \"button_machine\" and provide a description that explains its purpose: it is a big red button that can be pushed, and it accepts a single value when prompted. The func parameter is set to our press_button function, linking the tool's action to our defined behavior. This setup allows the LLM to interact with the button tool by pushing it and observing the corresponding response."
      ]
    },
    {
      "cell_type": "code",
      "execution_count": 3,
      "metadata": {
        "id": "dTylRLZJ4fZc"
      },
      "outputs": [],
      "source": [
        "from langchain.agents import Tool\n",
        "\n",
        "def press_button(value):\n",
        "  print(f\"*************{value}\")\n",
        "  return \"The button glows red!\"\n",
        "\n",
        "button_tool = Tool(\n",
        "    name=\"button_machine\",\n",
        "    description=\"A big red button that you can push. You can send a single value to the button, if asked. \",\n",
        "    func=press_button,\n",
        ")"
      ]
    },
    {
      "cell_type": "markdown",
      "metadata": {
        "id": "TcT-dmNBCbNy"
      },
      "source": [
        "In this code, we construct an agent and instruct it to press the button we previously defined. We start by importing the necessary modules and functions, including hub from LangChain, create_tool_calling_agent, and AgentExecutor. We then pull a prompt from the LangChain hub, which serves as the template for our agent's interactions.\n",
        "\n",
        "We define a list named tools, which includes our previously created button_tool. Using the create_tool_calling_agent function, we create an agent that can utilize the tools we've specified, guided by the pulled prompt. The AgentExecutor class is then used to instantiate an agent_executor, linking the agent with the tools and enabling verbose output for better insight into the interactions.\n",
        "\n",
        "Finally, we invoke the agent with the input command: \"Push the big red button, tell me what happens.\" This command instructs the agent to use the button tool, demonstrating the agent's ability to perform the defined action and providing feedback on the outcome."
      ]
    },
    {
      "cell_type": "code",
      "execution_count": 4,
      "metadata": {
        "colab": {
          "base_uri": "https://localhost:8080/"
        },
        "id": "ZlU1rtdH4gJv",
        "outputId": "c89ab740-d983-4e57-e60c-0fa2f3761321"
      },
      "outputs": [
        {
          "name": "stderr",
          "output_type": "stream",
          "text": [
            "/usr/local/lib/python3.10/dist-packages/langsmith/client.py:312: LangSmithMissingAPIKeyWarning: API key must be provided when using hosted LangSmith API\n",
            "  warnings.warn(\n",
            "/usr/local/lib/python3.10/dist-packages/langsmith/client.py:5515: LangChainBetaWarning: The function `loads` is in beta. It is actively being worked on, so the API may change.\n",
            "  prompt = loads(json.dumps(prompt_object.manifest))\n"
          ]
        },
        {
          "name": "stdout",
          "output_type": "stream",
          "text": [
            "\n",
            "\n",
            "\u001b[1m> Entering new AgentExecutor chain...\u001b[0m\n",
            "\u001b[32;1m\u001b[1;3m\n",
            "Invoking: `button_machine` with `{'config': {'tags': ['big red button'], 'run_name': 'Push the Big Red Button'}}`\n",
            "\n",
            "\n",
            "\u001b[0m*************{'tags': ['big red button'], 'run_name': 'Push the Big Red Button'}\n",
            "\u001b[36;1m\u001b[1;3mThe button glows red!\u001b[0m\u001b[32;1m\u001b[1;3mWhen you push the big red button, it glows red!\u001b[0m\n",
            "\n",
            "\u001b[1m> Finished chain.\u001b[0m\n"
          ]
        },
        {
          "data": {
            "text/plain": [
              "{'input': 'Push the big red button, tell me what happens.',\n",
              " 'output': 'When you push the big red button, it glows red!'}"
            ]
          },
          "execution_count": 4,
          "metadata": {},
          "output_type": "execute_result"
        }
      ],
      "source": [
        "from langchain import hub\n",
        "from langchain.agents import create_tool_calling_agent\n",
        "from langchain_community.tools import DuckDuckGoSearchRun\n",
        "from langchain.agents import AgentExecutor\n",
        "\n",
        "prompt = hub.pull(\"hwchase17/openai-functions-agent\")\n",
        "\n",
        "tools = [button_tool]\n",
        "agent = create_tool_calling_agent(llm, tools, prompt)\n",
        "agent_executor = AgentExecutor(agent=agent, tools=tools, verbose=True)\n",
        "agent_executor.invoke({\"input\": \"Push the big red button, tell me what happens.\"})"
      ]
    },
    {
      "cell_type": "markdown",
      "metadata": {
        "id": "R6nAGgIY3FFA"
      },
      "source": [
        "## Controling a Simple Robot with Tools\n",
        "\n",
        "\n",
        "In this code, we create a more complex tool involving three buttons that control the movement of a small car. We define a CarTool class that initializes the car's position (x, y) and direction (north, east, south, west). The class also creates a Tool object named control_panel with a description explaining the functions of three buttons: red, green, and yellow.\n",
        "\n",
        "The CarTool class includes methods to move the car forward (move_forward), turn it left (turn_left), and turn it right (turn_right). The press_button method processes button presses by color. Pressing the red button moves the car forward by one unit in its current direction. Pressing the green button turns the car 90 degrees to the left, and pressing the yellow button turns the car 90 degrees to the right. If an invalid button color is pressed, an error message is returned.\n",
        "\n",
        "Additionally, the get_position method provides the current position and direction of the car. The example usage at the end demonstrates how to use the CarTool to control the car by pressing different buttons and handling invalid input."
      ]
    },
    {
      "cell_type": "code",
      "execution_count": 5,
      "metadata": {
        "colab": {
          "base_uri": "https://localhost:8080/"
        },
        "id": "tol8GOGD87U3",
        "outputId": "bf20d698-b5d6-4534-a943-3429baf9ab77"
      },
      "outputs": [
        {
          "name": "stdout",
          "output_type": "stream",
          "text": [
            "Current car position: (0, 1, 'north')\n",
            "The button glows red, you move forward one unit.\n",
            "Current car position: (0, 1, 'west')\n",
            "The button glows green, you turn 90 degrees to the left.\n",
            "Current car position: (0, 1, 'north')\n",
            "The button glows yellow, you turn 90 degrees to the right.\n",
            "Current car position: (0, 1, 'north')\n",
            "The button buzzes, error.\n"
          ]
        }
      ],
      "source": [
        "from langchain.tools import StructuredTool\n",
        "from pydantic import BaseModel\n",
        "from langchain import hub\n",
        "from langchain_openai import ChatOpenAI\n",
        "from langchain.agents import create_tool_calling_agent\n",
        "from langchain.agents import AgentExecutor\n",
        "\n",
        "# Define a Pydantic schema for the button press input\n",
        "class ButtonPressInput(BaseModel):\n",
        "    button_color: str\n",
        "\n",
        "class CarTool:\n",
        "    def __init__(self):\n",
        "        self.x = 0\n",
        "        self.y = 0\n",
        "        self.direction = 'north'\n",
        "        self.directions = ['north', 'east', 'south', 'west']\n",
        "        self.tool = StructuredTool(\n",
        "            name=\"control_panel\",\n",
        "            description=\"\"\"Three buttons, red, green and yellow that you can push.\n",
        "            The red button moves you forward 1 unit.\n",
        "            The green button turns left 90 degrees,\n",
        "            the yellow button turns right 90 degrees.\"\"\",\n",
        "            func=self.press_button,\n",
        "            args_schema=ButtonPressInput  # Define the expected input schema\n",
        "        )\n",
        "\n",
        "    def move_forward(self):\n",
        "        if self.direction == 'north':\n",
        "            self.y += 1\n",
        "        elif self.direction == 'east':\n",
        "            self.x += 1\n",
        "        elif self.direction == 'south':\n",
        "            self.y -= 1\n",
        "        elif self.direction == 'west':\n",
        "            self.x -= 1\n",
        "\n",
        "    def turn_left(self):\n",
        "        current_index = self.directions.index(self.direction)\n",
        "        self.direction = self.directions[(current_index - 1) % 4]\n",
        "\n",
        "    def turn_right(self):\n",
        "        current_index = self.directions.index(self.direction)\n",
        "        self.direction = self.directions[(current_index + 1) % 4]\n",
        "\n",
        "    def press_button(self, button_color: str):\n",
        "        button_color = button_color.strip().lower()\n",
        "        if button_color == 'red':\n",
        "            self.move_forward()\n",
        "            result = \"The button glows red, you move forward one unit.\"\n",
        "        elif button_color == 'green':\n",
        "            self.turn_left()\n",
        "            result = \"The button glows green, you turn 90 degrees to the left.\"\n",
        "        elif button_color == 'yellow':\n",
        "            self.turn_right()\n",
        "            result = \"The button glows yellow, you turn 90 degrees to the right.\"\n",
        "        else:\n",
        "            result = \"The button buzzes, error.\"\n",
        "\n",
        "        print(f\"Current car position: {self.get_position()}\")\n",
        "        return result\n",
        "\n",
        "    def get_position(self):\n",
        "        return self.x, self.y, self.direction\n",
        "\n",
        "# Example usage\n",
        "car_tool = CarTool()\n",
        "\n",
        "try:\n",
        "    print(car_tool.tool.func('red'))  # Move forward\n",
        "    print(car_tool.tool.func('green'))  # Turn left\n",
        "    print(car_tool.tool.func('yellow'))  # Turn right\n",
        "    print(car_tool.tool.func('blue'))  # Invalid button color, raises ValueError\n",
        "except ValueError as e:\n",
        "    print(e)\n"
      ]
    },
    {
      "cell_type": "markdown",
      "metadata": {
        "id": "Vi3Aa0EvC_AW"
      },
      "source": [
        "We now construct an agent and provide this tool, we request the car to move in a rectangle."
      ]
    },
    {
      "cell_type": "code",
      "execution_count": 6,
      "metadata": {
        "colab": {
          "base_uri": "https://localhost:8080/"
        },
        "id": "oHVfoXVcGGHK",
        "outputId": "8537e404-2855-4e55-8e67-1138b766b2b9"
      },
      "outputs": [
        {
          "name": "stderr",
          "output_type": "stream",
          "text": [
            "/usr/local/lib/python3.10/dist-packages/langsmith/client.py:312: LangSmithMissingAPIKeyWarning: API key must be provided when using hosted LangSmith API\n",
            "  warnings.warn(\n"
          ]
        },
        {
          "name": "stdout",
          "output_type": "stream",
          "text": [
            "\n",
            "\n",
            "\u001b[1m> Entering new AgentExecutor chain...\u001b[0m\n",
            "\u001b[32;1m\u001b[1;3m\n",
            "Invoking: `control_panel` with `{'button_color': 'red'}`\n",
            "\n",
            "\n",
            "\u001b[0mCurrent car position: (0, 2, 'north')\n",
            "\u001b[36;1m\u001b[1;3mThe button glows red, you move forward one unit.\u001b[0m\u001b[32;1m\u001b[1;3m\n",
            "Invoking: `control_panel` with `{'button_color': 'green'}`\n",
            "\n",
            "\n",
            "\u001b[0mCurrent car position: (0, 2, 'west')\n",
            "\u001b[36;1m\u001b[1;3mThe button glows green, you turn 90 degrees to the left.\u001b[0m\u001b[32;1m\u001b[1;3m\n",
            "Invoking: `control_panel` with `{'button_color': 'red'}`\n",
            "\n",
            "\n",
            "\u001b[0mCurrent car position: (-1, 2, 'west')\n",
            "\u001b[36;1m\u001b[1;3mThe button glows red, you move forward one unit.\u001b[0m\u001b[32;1m\u001b[1;3m\n",
            "Invoking: `control_panel` with `{'button_color': 'green'}`\n",
            "\n",
            "\n",
            "\u001b[0mCurrent car position: (-1, 2, 'south')\n",
            "\u001b[36;1m\u001b[1;3mThe button glows green, you turn 90 degrees to the left.\u001b[0m\u001b[32;1m\u001b[1;3m\n",
            "Invoking: `control_panel` with `{'button_color': 'red'}`\n",
            "\n",
            "\n",
            "\u001b[0mCurrent car position: (-1, 1, 'south')\n",
            "\u001b[36;1m\u001b[1;3mThe button glows red, you move forward one unit.\u001b[0m\u001b[32;1m\u001b[1;3m\n",
            "Invoking: `control_panel` with `{'button_color': 'green'}`\n",
            "\n",
            "\n",
            "\u001b[0mCurrent car position: (-1, 1, 'east')\n",
            "\u001b[36;1m\u001b[1;3mThe button glows green, you turn 90 degrees to the left.\u001b[0m\u001b[32;1m\u001b[1;3m\n",
            "Invoking: `control_panel` with `{'button_color': 'red'}`\n",
            "\n",
            "\n",
            "\u001b[0mCurrent car position: (0, 1, 'east')\n",
            "\u001b[36;1m\u001b[1;3mThe button glows red, you move forward one unit.\u001b[0m\u001b[32;1m\u001b[1;3m\n",
            "Invoking: `control_panel` with `{'button_color': 'green'}`\n",
            "\n",
            "\n",
            "\u001b[0mCurrent car position: (0, 1, 'north')\n",
            "\u001b[36;1m\u001b[1;3mThe button glows green, you turn 90 degrees to the left.\u001b[0m\u001b[32;1m\u001b[1;3mThe car has moved in a rectangle as follows:\n",
            "\n",
            "1. Moved forward 1 unit.\n",
            "2. Turned 90 degrees to the left.\n",
            "3. Moved forward 1 unit.\n",
            "4. Turned 90 degrees to the left.\n",
            "5. Moved forward 1 unit.\n",
            "6. Turned 90 degrees to the left.\n",
            "7. Moved forward 1 unit.\n",
            "8. Turned 90 degrees to the left.\n",
            "\n",
            "The car is now back at its starting position, having completed a rectangular path.\u001b[0m\n",
            "\n",
            "\u001b[1m> Finished chain.\u001b[0m\n"
          ]
        },
        {
          "data": {
            "text/plain": [
              "{'input': 'Push the buttons in a way that causes the car to move in a rectangle.',\n",
              " 'output': 'The car has moved in a rectangle as follows:\\n\\n1. Moved forward 1 unit.\\n2. Turned 90 degrees to the left.\\n3. Moved forward 1 unit.\\n4. Turned 90 degrees to the left.\\n5. Moved forward 1 unit.\\n6. Turned 90 degrees to the left.\\n7. Moved forward 1 unit.\\n8. Turned 90 degrees to the left.\\n\\nThe car is now back at its starting position, having completed a rectangular path.'}"
            ]
          },
          "execution_count": 6,
          "metadata": {},
          "output_type": "execute_result"
        }
      ],
      "source": [
        "# Initialize LLM and create an agent\n",
        "MODEL = 'gpt-4o-mini'\n",
        "llm = ChatOpenAI(model=MODEL, temperature=0.2, n=1)\n",
        "\n",
        "prompt = hub.pull(\"hwchase17/openai-functions-agent\")\n",
        "\n",
        "tools = [car_tool.tool]\n",
        "agent = create_tool_calling_agent(llm, tools, prompt)\n",
        "agent_executor = AgentExecutor(agent=agent, tools=tools, verbose=True)\n",
        "\n",
        "# Invoke the agent to control the car\n",
        "agent_executor.invoke({\"input\": \"Push the buttons in a way that causes the car to move in a rectangle.\"})\n",
        "\n",
        "\n"
      ]
    },
    {
      "cell_type": "code",
      "execution_count": 6,
      "metadata": {
        "id": "6lsC9cNjV8cM"
      },
      "outputs": [],
      "source": []
    }
  ],
  "metadata": {
    "anaconda-cloud": {},
    "colab": {
      "provenance": []
    },
    "kernelspec": {
      "display_name": "Python 3",
      "language": "python",
      "name": "python3"
    },
    "language_info": {
      "codemirror_mode": {
        "name": "ipython",
        "version": 3
      },
      "file_extension": ".py",
      "mimetype": "text/x-python",
      "name": "python",
      "nbconvert_exporter": "python",
      "pygments_lexer": "ipython3",
      "version": "3.11.9"
    },
    "varInspector": {
      "cols": {
        "lenName": 16,
        "lenType": 16,
        "lenVar": 40
      },
      "kernels_config": {
        "python": {
          "delete_cmd_postfix": "",
          "delete_cmd_prefix": "del ",
          "library": "var_list.py",
          "varRefreshCmd": "print(var_dic_list())"
        },
        "r": {
          "delete_cmd_postfix": ") ",
          "delete_cmd_prefix": "rm(",
          "library": "var_list.r",
          "varRefreshCmd": "cat(var_dic_list()) "
        }
      },
      "types_to_exclude": [
        "module",
        "function",
        "builtin_function_or_method",
        "instance",
        "_Feature"
      ],
      "window_display": false
    }
  },
  "nbformat": 4,
  "nbformat_minor": 0
}
